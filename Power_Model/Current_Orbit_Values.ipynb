{
 "cells": [
  {
   "cell_type": "code",
   "execution_count": 1,
   "id": "73bb1dbe-3b07-4e6f-948a-aa6c59e1d425",
   "metadata": {},
   "outputs": [],
   "source": [
    "# Current Orbit Values Function\n",
    "# Created: 10/27/2022\n",
    "# Author: Cameron King\n",
    "\n",
    "# Description:\n",
    "#\n",
    "# This function takes in the current time, total transmission time, Velocity, altitude, and receiver radius\n",
    "# it assumes a circular orbit around a perfect moon and outputs the current distance to receiver, satellite pointing angle from nadir,\n",
    "# receiver incient angle (angle the receiver actually gets the beam at), and the FOV of the receiver (in in track directin)\n",
    "# This function will be used repetitivly to determine the current distance and receiver angle at all points during the transmission time\n",
    "\n",
    "# libraries\n",
    "import math\n",
    "import numpy\n",
    "import mpmath"
   ]
  },
  {
   "cell_type": "code",
   "execution_count": 2,
   "id": "f7b2a458-bb35-430c-80c0-7af6ae5d8508",
   "metadata": {},
   "outputs": [],
   "source": [
    "def Current_Orbit_Values(h,t_end,t,V,r):\n",
    "    \n",
    "    # Constants\n",
    "    r_m = 1737500; # radius of the moon, m\n",
    "    \n",
    "    alpha = abs(V*(t-t_end/2)/(r_m+h)) # angle sc and receiver make with center of moon, only care about abs to keep things acurate in the trig funcs below\n",
    "    \n",
    "    d = math.sqrt(r_m**2+(r_m+h)**2-2*r_m*(r_m+h)*mpmath.cos(alpha)) # linear distance to receiver\n",
    "    \n",
    "    theta_s = mpmath.acos( (d**2+(r_m+h)**2-r_m**2)/(2*d*(r_m+h)) ) # satellite view angle away from nadir (what laser pointing will need to do)\n",
    "    \n",
    "    theta_r = alpha + theta_s # incident angle of the receiver\n",
    "    \n",
    "    r_prime = r*mpmath.sin(numpy.pi/2-theta_r) # semi-minor axis of ellipse that receiver appears as to the sc\n",
    "    r_prime = float(r_prime)\n",
    "    \n",
    "    FOV = 2*(mpmath.atan(r_prime/(d-math.sqrt(r**2-r_prime**2)))) # field of view of the receiver\n",
    "    \n",
    "    # adjust for negetives in second half of the orbit\n",
    "    \n",
    "    if t > t_end/2:\n",
    "        theta_s = -theta_s\n",
    "        \n",
    "    return [d,theta_s,theta_r,FOV,r_prime]\n",
    "    \n",
    "    \n",
    "\n"
   ]
  },
  {
   "cell_type": "code",
   "execution_count": null,
   "id": "815cef2e-3e8e-4ec9-a667-ead382659497",
   "metadata": {},
   "outputs": [],
   "source": []
  }
 ],
 "metadata": {
  "kernelspec": {
   "display_name": "Python 3 (ipykernel)",
   "language": "python",
   "name": "python3"
  },
  "language_info": {
   "codemirror_mode": {
    "name": "ipython",
    "version": 3
   },
   "file_extension": ".py",
   "mimetype": "text/x-python",
   "name": "python",
   "nbconvert_exporter": "python",
   "pygments_lexer": "ipython3",
   "version": "3.9.12"
  }
 },
 "nbformat": 4,
 "nbformat_minor": 5
}
