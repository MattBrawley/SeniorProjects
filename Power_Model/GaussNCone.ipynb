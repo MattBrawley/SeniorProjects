{
 "cells": [
  {
   "cell_type": "code",
   "execution_count": 7,
   "id": "74319315-4c48-4f52-ae43-781e20805156",
   "metadata": {},
   "outputs": [],
   "source": [
    "# GAUSS & CONULAR Combination\n",
    "# Created: 10/24/2022\n",
    "# Author: Cameron King\n",
    "# Function Authors: Alec Church\n",
    "\n",
    "# Description:\n",
    "#\n",
    "# This function will combine the gaussian distribution output from Alec's function, with the conular dispursion function.\n",
    "# This will be used for the combined assumption that the beam has a gaussian distribution, that is aimed perfectly to dispurse in a conular method.\n",
    "# The laser within the sc creates a gaussian beam, and a lens is used to refract the beam into a cone coming from the lens as an approximate point source.\n",
    "\n",
    "# Functions:\n",
    "# This function needs access to the transmission_funcs.ipynb file to call gaussian_transmission_func\n",
    "\n",
    "\n",
    "# Errors & Checks:\n",
    "# This function also gives a check to if gaussian_transmission_func is running correctly, as in if it is outputting the correct total shell percentage.\n",
    "# This means that this function throws an error if it finds that the shell percentages dont sum close to 100%. \n",
    "# It will never be perfect, but it seems to usually be about 99.02% with current values, and it should always, if the function runs right with given values, return\n",
    "# something close to 100%. This efficeincy loss can be calculated, but I think we should include it as an uncertainty of our gaussian model.\n",
    "\n",
    "\n",
    "# libraries\n",
    "import math\n",
    "import numpy\n",
    "import mpmath\n",
    "\n",
    "# functions\n",
    "from ipynb.fs.full.transmission_funcs import *"
   ]
  },
  {
   "cell_type": "code",
   "execution_count": 8,
   "id": "bd1cc0ba-aa1a-41ee-a2a5-f9a857293e5b",
   "metadata": {},
   "outputs": [],
   "source": [
    "def gaussNcone_transmission_func(r_aperture, r_ave, d_ave, d, P0):\n",
    "    \n",
    "    r = r_aperture/1.52 # 99% of the beam is in 1.52*r, where r is the radius of the beam IN THE GAUSSIAN FORMULATION\n",
    "                        # dividing by 1.52 here allows for the calculation of a beam that contains 99% in r_aperature = r*1.52\n",
    "        \n",
    "    d_lens = 1 # hardcoded value for distance from the laser to the output lens\n",
    "    \n",
    "    # Get the flux distribution and radii for gaussian beam with radius of the output lens, at the output lens\n",
    "    F_disp = gaussian_transmission_func(r, d_lens, d_lens, P0) # this does the gaussian formulation of the math to determine power in each shell\n",
    "    \n",
    "    # determine cone shape and radius ratio\n",
    "    alpha = mpmath.atan((r_ave-r_aperture)/d_ave) # view angle, half of FOV basically\n",
    "    \n",
    "    r_actual = d*mpmath.tan(alpha) # actual radius of beam at actual distance d\n",
    "    r_actual = float(r_actual)\n",
    "    \n",
    "    r_ratio = r_actual/r_ave # multiply this by the radius at the output lense to get F_disp radii scaled as a cone\n",
    "    \n",
    "    for i in range(0,len(F_disp[0])-1): # Calculates the scaled radii of the larger 'spotlight'\n",
    "        F_disp[0][i] = F_disp[0][i]*r_ratio\n",
    "    \n",
    "    \n",
    "    # CHECK: is the sum of the shell percentages close to 100%? throw error if not\n",
    "    tot_shell_perc = sum(F_disp[1][:])-F_disp[1][0]    \n",
    "    if tot_shell_perc < 0.98:\n",
    "        print('Total shell percentage = ',tot_shell_perc)\n",
    "        raise ValueError('Total Shell Percentage doesnt sum to >98%. Check gaussian_transmission_func & calls.')\n",
    "        \n",
    "        \n",
    "        \n",
    "    return F_disp\n",
    "\n",
    "    "
   ]
  },
  {
   "cell_type": "code",
   "execution_count": null,
   "id": "93d18bc1-5a0a-41f2-9c20-88874820d9e8",
   "metadata": {},
   "outputs": [],
   "source": []
  },
  {
   "cell_type": "code",
   "execution_count": null,
   "id": "21ef3fb7-f222-4cc4-ba1c-eccedb3247cf",
   "metadata": {},
   "outputs": [],
   "source": []
  },
  {
   "cell_type": "code",
   "execution_count": null,
   "id": "ab06372e-daf2-469c-bc57-8a2a809ebdb7",
   "metadata": {},
   "outputs": [],
   "source": []
  },
  {
   "cell_type": "code",
   "execution_count": null,
   "id": "fc67094a-5d98-4f1c-9069-114a237b8611",
   "metadata": {},
   "outputs": [],
   "source": []
  }
 ],
 "metadata": {
  "kernelspec": {
   "display_name": "Python 3 (ipykernel)",
   "language": "python",
   "name": "python3"
  },
  "language_info": {
   "codemirror_mode": {
    "name": "ipython",
    "version": 3
   },
   "file_extension": ".py",
   "mimetype": "text/x-python",
   "name": "python",
   "nbconvert_exporter": "python",
   "pygments_lexer": "ipython3",
   "version": "3.9.12"
  }
 },
 "nbformat": 4,
 "nbformat_minor": 5
}
