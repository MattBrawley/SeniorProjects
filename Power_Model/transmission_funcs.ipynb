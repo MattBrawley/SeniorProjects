{
 "cells": [
  {
   "cell_type": "code",
   "execution_count": 14,
   "id": "84c024e0-1969-42e9-930c-abb78434dfd4",
   "metadata": {},
   "outputs": [],
   "source": [
    "\"\"\"\n",
    "Created on Wed Oct  5 11:44:34 2022\n",
    "@author: alecchurch\n",
    "\n",
    "copied & edited 10/24/2022 by Cameron King\n",
    "\n",
    "Description:\n",
    "This function takes in the radius of the beam \n",
    "\"\"\"\n",
    "\n",
    "def gaussian_transmission_func(radius, av_d, curr_d, P0):\n",
    "    import numpy as np\n",
    "    \n",
    "    # Chosen constants\n",
    "    Lambda = 532 * 10**(-12) # meters (nanometers)\n",
    "    \n",
    "    # Waist of the beam is the size of the aperture\n",
    "    w0 = radius\n",
    "\n",
    "    # Calculate Rayleigh length needed for the average distance, wavelength, and target radius\n",
    "    z_R = (w0**2 * np.pi / Lambda)\n",
    "        \n",
    "    # Calculate the actual radius of the beam at the changing distance (near average distance)\n",
    "    w = w0 * np.sqrt(1 + (curr_d / z_R)**2)\n",
    "    \n",
    "    # Choose max radius to calculate intensity to, should be equal to radius of beam at surface & current time\n",
    "    r_max = w*1.52\n",
    "\n",
    "    # Initialize variables prior to for loop\n",
    "    \n",
    "    N = 20\n",
    "    r_step = r_max/N\n",
    "    P_within = []\n",
    "    r = np.arange(0,r_max+r_step,r_step)\n",
    "    r_vec = []\n",
    "    \n",
    "    # Loop through a range from 1 to selected end radius\n",
    "    for i in range(0,len(r)):\n",
    "        \n",
    "        if i == 0:\n",
    "            P_within.append(P0)\n",
    "        elif i == 1:\n",
    "            # Calculate Power within that radius, percent\n",
    "            P_within.append((1-np.exp((-2 * r[i]**2) / (w)**2)))\n",
    "        else:\n",
    "            P_within.append((1-np.exp((-2 * r[i]**2) / (w)**2)) - (1-np.exp((-2 * r[i-1]**2) / (w)**2)))\n",
    "            \n",
    "        r_vec.append(r[i])\n",
    "\n",
    "    # Convert lists to numpy arrays\n",
    "    r = np.array(r)                                \n",
    "                \n",
    "    return [r_vec, P_within]"
   ]
  },
  {
   "cell_type": "code",
   "execution_count": null,
   "id": "0582e3ee-2417-4bc9-be70-e889b219a82c",
   "metadata": {},
   "outputs": [],
   "source": []
  },
  {
   "cell_type": "code",
   "execution_count": 2,
   "id": "0f29175b-6ae2-4174-a36b-1620a06a9146",
   "metadata": {},
   "outputs": [],
   "source": []
  },
  {
   "cell_type": "code",
   "execution_count": 3,
   "id": "aef68172-84a2-4f4e-b5e7-baa4cc554127",
   "metadata": {},
   "outputs": [],
   "source": []
  },
  {
   "cell_type": "code",
   "execution_count": null,
   "id": "fc01edc0-a1cc-49f2-acbc-fbc138da6234",
   "metadata": {},
   "outputs": [],
   "source": []
  },
  {
   "cell_type": "code",
   "execution_count": null,
   "id": "536abb0d-639f-4bb3-b53b-afcfd5db05f7",
   "metadata": {},
   "outputs": [],
   "source": []
  },
  {
   "cell_type": "code",
   "execution_count": null,
   "id": "932f1f32-a9f2-4574-8721-570e6bd47055",
   "metadata": {},
   "outputs": [],
   "source": []
  }
 ],
 "metadata": {
  "kernelspec": {
   "display_name": "Python 3 (ipykernel)",
   "language": "python",
   "name": "python3"
  },
  "language_info": {
   "codemirror_mode": {
    "name": "ipython",
    "version": 3
   },
   "file_extension": ".py",
   "mimetype": "text/x-python",
   "name": "python",
   "nbconvert_exporter": "python",
   "pygments_lexer": "ipython3",
   "version": "3.9.12"
  }
 },
 "nbformat": 4,
 "nbformat_minor": 5
}
